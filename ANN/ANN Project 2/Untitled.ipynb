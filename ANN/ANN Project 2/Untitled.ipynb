{
 "cells": [
  {
   "cell_type": "markdown",
   "id": "3615a97b",
   "metadata": {},
   "source": [
    "Import libraries\n"
   ]
  },
  {
   "cell_type": "code",
   "execution_count": 2,
   "id": "e9e1bc8f",
   "metadata": {},
   "outputs": [],
   "source": [
    "import numpy as np\n",
    "import pandas as pd\n",
    "import tensorflow as tf"
   ]
  },
  {
   "cell_type": "markdown",
   "id": "e7f61daf",
   "metadata": {},
   "source": [
    "# Part 1 - Data Preprocessing"
   ]
  },
  {
   "cell_type": "code",
   "execution_count": 3,
   "id": "15112db5",
   "metadata": {},
   "outputs": [],
   "source": [
    "dataset= pd.read_csv('Churn_Modelling.csv')"
   ]
  },
  {
   "cell_type": "code",
   "execution_count": 4,
   "id": "74fd7570",
   "metadata": {},
   "outputs": [
    {
     "data": {
      "text/html": [
       "<div>\n",
       "<style scoped>\n",
       "    .dataframe tbody tr th:only-of-type {\n",
       "        vertical-align: middle;\n",
       "    }\n",
       "\n",
       "    .dataframe tbody tr th {\n",
       "        vertical-align: top;\n",
       "    }\n",
       "\n",
       "    .dataframe thead th {\n",
       "        text-align: right;\n",
       "    }\n",
       "</style>\n",
       "<table border=\"1\" class=\"dataframe\">\n",
       "  <thead>\n",
       "    <tr style=\"text-align: right;\">\n",
       "      <th></th>\n",
       "      <th>RowNumber</th>\n",
       "      <th>CustomerId</th>\n",
       "      <th>Surname</th>\n",
       "      <th>CreditScore</th>\n",
       "      <th>Geography</th>\n",
       "      <th>Gender</th>\n",
       "      <th>Age</th>\n",
       "      <th>Tenure</th>\n",
       "      <th>Balance</th>\n",
       "      <th>NumOfProducts</th>\n",
       "      <th>HasCrCard</th>\n",
       "      <th>IsActiveMember</th>\n",
       "      <th>EstimatedSalary</th>\n",
       "      <th>Exited</th>\n",
       "    </tr>\n",
       "  </thead>\n",
       "  <tbody>\n",
       "    <tr>\n",
       "      <th>0</th>\n",
       "      <td>1</td>\n",
       "      <td>15634602</td>\n",
       "      <td>Hargrave</td>\n",
       "      <td>619</td>\n",
       "      <td>France</td>\n",
       "      <td>Female</td>\n",
       "      <td>42</td>\n",
       "      <td>2</td>\n",
       "      <td>0.00</td>\n",
       "      <td>1</td>\n",
       "      <td>1</td>\n",
       "      <td>1</td>\n",
       "      <td>101348.88</td>\n",
       "      <td>1</td>\n",
       "    </tr>\n",
       "    <tr>\n",
       "      <th>1</th>\n",
       "      <td>2</td>\n",
       "      <td>15647311</td>\n",
       "      <td>Hill</td>\n",
       "      <td>608</td>\n",
       "      <td>Spain</td>\n",
       "      <td>Female</td>\n",
       "      <td>41</td>\n",
       "      <td>1</td>\n",
       "      <td>83807.86</td>\n",
       "      <td>1</td>\n",
       "      <td>0</td>\n",
       "      <td>1</td>\n",
       "      <td>112542.58</td>\n",
       "      <td>0</td>\n",
       "    </tr>\n",
       "    <tr>\n",
       "      <th>2</th>\n",
       "      <td>3</td>\n",
       "      <td>15619304</td>\n",
       "      <td>Onio</td>\n",
       "      <td>502</td>\n",
       "      <td>France</td>\n",
       "      <td>Female</td>\n",
       "      <td>42</td>\n",
       "      <td>8</td>\n",
       "      <td>159660.80</td>\n",
       "      <td>3</td>\n",
       "      <td>1</td>\n",
       "      <td>0</td>\n",
       "      <td>113931.57</td>\n",
       "      <td>1</td>\n",
       "    </tr>\n",
       "    <tr>\n",
       "      <th>3</th>\n",
       "      <td>4</td>\n",
       "      <td>15701354</td>\n",
       "      <td>Boni</td>\n",
       "      <td>699</td>\n",
       "      <td>France</td>\n",
       "      <td>Female</td>\n",
       "      <td>39</td>\n",
       "      <td>1</td>\n",
       "      <td>0.00</td>\n",
       "      <td>2</td>\n",
       "      <td>0</td>\n",
       "      <td>0</td>\n",
       "      <td>93826.63</td>\n",
       "      <td>0</td>\n",
       "    </tr>\n",
       "    <tr>\n",
       "      <th>4</th>\n",
       "      <td>5</td>\n",
       "      <td>15737888</td>\n",
       "      <td>Mitchell</td>\n",
       "      <td>850</td>\n",
       "      <td>Spain</td>\n",
       "      <td>Female</td>\n",
       "      <td>43</td>\n",
       "      <td>2</td>\n",
       "      <td>125510.82</td>\n",
       "      <td>1</td>\n",
       "      <td>1</td>\n",
       "      <td>1</td>\n",
       "      <td>79084.10</td>\n",
       "      <td>0</td>\n",
       "    </tr>\n",
       "    <tr>\n",
       "      <th>...</th>\n",
       "      <td>...</td>\n",
       "      <td>...</td>\n",
       "      <td>...</td>\n",
       "      <td>...</td>\n",
       "      <td>...</td>\n",
       "      <td>...</td>\n",
       "      <td>...</td>\n",
       "      <td>...</td>\n",
       "      <td>...</td>\n",
       "      <td>...</td>\n",
       "      <td>...</td>\n",
       "      <td>...</td>\n",
       "      <td>...</td>\n",
       "      <td>...</td>\n",
       "    </tr>\n",
       "    <tr>\n",
       "      <th>9995</th>\n",
       "      <td>9996</td>\n",
       "      <td>15606229</td>\n",
       "      <td>Obijiaku</td>\n",
       "      <td>771</td>\n",
       "      <td>France</td>\n",
       "      <td>Male</td>\n",
       "      <td>39</td>\n",
       "      <td>5</td>\n",
       "      <td>0.00</td>\n",
       "      <td>2</td>\n",
       "      <td>1</td>\n",
       "      <td>0</td>\n",
       "      <td>96270.64</td>\n",
       "      <td>0</td>\n",
       "    </tr>\n",
       "    <tr>\n",
       "      <th>9996</th>\n",
       "      <td>9997</td>\n",
       "      <td>15569892</td>\n",
       "      <td>Johnstone</td>\n",
       "      <td>516</td>\n",
       "      <td>France</td>\n",
       "      <td>Male</td>\n",
       "      <td>35</td>\n",
       "      <td>10</td>\n",
       "      <td>57369.61</td>\n",
       "      <td>1</td>\n",
       "      <td>1</td>\n",
       "      <td>1</td>\n",
       "      <td>101699.77</td>\n",
       "      <td>0</td>\n",
       "    </tr>\n",
       "    <tr>\n",
       "      <th>9997</th>\n",
       "      <td>9998</td>\n",
       "      <td>15584532</td>\n",
       "      <td>Liu</td>\n",
       "      <td>709</td>\n",
       "      <td>France</td>\n",
       "      <td>Female</td>\n",
       "      <td>36</td>\n",
       "      <td>7</td>\n",
       "      <td>0.00</td>\n",
       "      <td>1</td>\n",
       "      <td>0</td>\n",
       "      <td>1</td>\n",
       "      <td>42085.58</td>\n",
       "      <td>1</td>\n",
       "    </tr>\n",
       "    <tr>\n",
       "      <th>9998</th>\n",
       "      <td>9999</td>\n",
       "      <td>15682355</td>\n",
       "      <td>Sabbatini</td>\n",
       "      <td>772</td>\n",
       "      <td>Germany</td>\n",
       "      <td>Male</td>\n",
       "      <td>42</td>\n",
       "      <td>3</td>\n",
       "      <td>75075.31</td>\n",
       "      <td>2</td>\n",
       "      <td>1</td>\n",
       "      <td>0</td>\n",
       "      <td>92888.52</td>\n",
       "      <td>1</td>\n",
       "    </tr>\n",
       "    <tr>\n",
       "      <th>9999</th>\n",
       "      <td>10000</td>\n",
       "      <td>15628319</td>\n",
       "      <td>Walker</td>\n",
       "      <td>792</td>\n",
       "      <td>France</td>\n",
       "      <td>Female</td>\n",
       "      <td>28</td>\n",
       "      <td>4</td>\n",
       "      <td>130142.79</td>\n",
       "      <td>1</td>\n",
       "      <td>1</td>\n",
       "      <td>0</td>\n",
       "      <td>38190.78</td>\n",
       "      <td>0</td>\n",
       "    </tr>\n",
       "  </tbody>\n",
       "</table>\n",
       "<p>10000 rows × 14 columns</p>\n",
       "</div>"
      ],
      "text/plain": [
       "      RowNumber  CustomerId    Surname  CreditScore Geography  Gender  Age  \\\n",
       "0             1    15634602   Hargrave          619    France  Female   42   \n",
       "1             2    15647311       Hill          608     Spain  Female   41   \n",
       "2             3    15619304       Onio          502    France  Female   42   \n",
       "3             4    15701354       Boni          699    France  Female   39   \n",
       "4             5    15737888   Mitchell          850     Spain  Female   43   \n",
       "...         ...         ...        ...          ...       ...     ...  ...   \n",
       "9995       9996    15606229   Obijiaku          771    France    Male   39   \n",
       "9996       9997    15569892  Johnstone          516    France    Male   35   \n",
       "9997       9998    15584532        Liu          709    France  Female   36   \n",
       "9998       9999    15682355  Sabbatini          772   Germany    Male   42   \n",
       "9999      10000    15628319     Walker          792    France  Female   28   \n",
       "\n",
       "      Tenure    Balance  NumOfProducts  HasCrCard  IsActiveMember  \\\n",
       "0          2       0.00              1          1               1   \n",
       "1          1   83807.86              1          0               1   \n",
       "2          8  159660.80              3          1               0   \n",
       "3          1       0.00              2          0               0   \n",
       "4          2  125510.82              1          1               1   \n",
       "...      ...        ...            ...        ...             ...   \n",
       "9995       5       0.00              2          1               0   \n",
       "9996      10   57369.61              1          1               1   \n",
       "9997       7       0.00              1          0               1   \n",
       "9998       3   75075.31              2          1               0   \n",
       "9999       4  130142.79              1          1               0   \n",
       "\n",
       "      EstimatedSalary  Exited  \n",
       "0           101348.88       1  \n",
       "1           112542.58       0  \n",
       "2           113931.57       1  \n",
       "3            93826.63       0  \n",
       "4            79084.10       0  \n",
       "...               ...     ...  \n",
       "9995         96270.64       0  \n",
       "9996        101699.77       0  \n",
       "9997         42085.58       1  \n",
       "9998         92888.52       1  \n",
       "9999         38190.78       0  \n",
       "\n",
       "[10000 rows x 14 columns]"
      ]
     },
     "execution_count": 4,
     "metadata": {},
     "output_type": "execute_result"
    }
   ],
   "source": [
    "dataset"
   ]
  },
  {
   "cell_type": "code",
   "execution_count": 12,
   "id": "6387f2b8",
   "metadata": {},
   "outputs": [
    {
     "data": {
      "text/plain": [
       "array([[619, 'France', 'Female', ..., 1, 1, 101348.88],\n",
       "       [608, 'Spain', 'Female', ..., 0, 1, 112542.58],\n",
       "       [502, 'France', 'Female', ..., 1, 0, 113931.57],\n",
       "       ...,\n",
       "       [709, 'France', 'Female', ..., 0, 1, 42085.58],\n",
       "       [772, 'Germany', 'Male', ..., 1, 0, 92888.52],\n",
       "       [792, 'France', 'Female', ..., 1, 0, 38190.78]], dtype=object)"
      ]
     },
     "execution_count": 12,
     "metadata": {},
     "output_type": "execute_result"
    }
   ],
   "source": [
    "X = dataset.iloc[:, 3:-1].values\n",
    "X"
   ]
  },
  {
   "cell_type": "code",
   "execution_count": 13,
   "id": "944bd002",
   "metadata": {},
   "outputs": [
    {
     "data": {
      "text/plain": [
       "array([1, 0, 1, ..., 1, 1, 0], dtype=int64)"
      ]
     },
     "execution_count": 13,
     "metadata": {},
     "output_type": "execute_result"
    }
   ],
   "source": [
    "y = dataset.iloc[:, -1].values\n",
    "y"
   ]
  },
  {
   "cell_type": "code",
   "execution_count": 14,
   "id": "a889437a",
   "metadata": {},
   "outputs": [
    {
     "data": {
      "text/plain": [
       "array([[619, 'France', 'Female', ..., 1, 1, 101348.88],\n",
       "       [608, 'Spain', 'Female', ..., 0, 1, 112542.58],\n",
       "       [502, 'France', 'Female', ..., 1, 0, 113931.57],\n",
       "       ...,\n",
       "       [709, 'France', 'Female', ..., 0, 1, 42085.58],\n",
       "       [772, 'Germany', 'Male', ..., 1, 0, 92888.52],\n",
       "       [792, 'France', 'Female', ..., 1, 0, 38190.78]], dtype=object)"
      ]
     },
     "execution_count": 14,
     "metadata": {},
     "output_type": "execute_result"
    }
   ],
   "source": [
    "X"
   ]
  },
  {
   "cell_type": "code",
   "execution_count": 15,
   "id": "58455989",
   "metadata": {},
   "outputs": [],
   "source": [
    "from sklearn.preprocessing import LabelEncoder\n",
    "le = LabelEncoder()\n",
    "X[:, 2] = le.fit_transform(X[:, 2])"
   ]
  },
  {
   "cell_type": "code",
   "execution_count": 16,
   "id": "241dfbbc",
   "metadata": {},
   "outputs": [
    {
     "data": {
      "text/plain": [
       "array([[619, 'France', 0, ..., 1, 1, 101348.88],\n",
       "       [608, 'Spain', 0, ..., 0, 1, 112542.58],\n",
       "       [502, 'France', 0, ..., 1, 0, 113931.57],\n",
       "       ...,\n",
       "       [709, 'France', 0, ..., 0, 1, 42085.58],\n",
       "       [772, 'Germany', 1, ..., 1, 0, 92888.52],\n",
       "       [792, 'France', 0, ..., 1, 0, 38190.78]], dtype=object)"
      ]
     },
     "execution_count": 16,
     "metadata": {},
     "output_type": "execute_result"
    }
   ],
   "source": [
    "X"
   ]
  },
  {
   "cell_type": "code",
   "execution_count": 17,
   "id": "684e018b",
   "metadata": {},
   "outputs": [],
   "source": [
    "from sklearn.compose import ColumnTransformer\n",
    "from sklearn.preprocessing import OneHotEncoder"
   ]
  },
  {
   "cell_type": "code",
   "execution_count": 18,
   "id": "828ed56b",
   "metadata": {},
   "outputs": [],
   "source": [
    "ct = ColumnTransformer(transformers=[('encoder', OneHotEncoder(), [1])], remainder='passthrough')\n",
    "X = np.array(ct.fit_transform(X))"
   ]
  },
  {
   "cell_type": "code",
   "execution_count": 28,
   "id": "c803e6f8",
   "metadata": {},
   "outputs": [
    {
     "data": {
      "text/plain": [
       "array([[1.0, 0.0, 0.0, 619, 0, 42, 2, 0.0, 1, 1, 1, 101348.88],\n",
       "       [0.0, 0.0, 1.0, 608, 0, 41, 1, 83807.86, 1, 0, 1, 112542.58],\n",
       "       [1.0, 0.0, 0.0, 502, 0, 42, 8, 159660.8, 3, 1, 0, 113931.57],\n",
       "       [1.0, 0.0, 0.0, 699, 0, 39, 1, 0.0, 2, 0, 0, 93826.63],\n",
       "       [0.0, 0.0, 1.0, 850, 0, 43, 2, 125510.82, 1, 1, 1, 79084.1]],\n",
       "      dtype=object)"
      ]
     },
     "execution_count": 28,
     "metadata": {},
     "output_type": "execute_result"
    }
   ],
   "source": [
    "X[:5]"
   ]
  },
  {
   "cell_type": "code",
   "execution_count": 29,
   "id": "d66edc89",
   "metadata": {},
   "outputs": [],
   "source": [
    "from sklearn.model_selection import train_test_split\n",
    "X_train, X_test, y_train, y_test = train_test_split(X, y, test_size = 0.2, random_state = 0)"
   ]
  },
  {
   "cell_type": "code",
   "execution_count": 30,
   "id": "23fc05ed",
   "metadata": {},
   "outputs": [
    {
     "data": {
      "text/plain": [
       "array([[-1.01460667, -0.5698444 ,  1.74309049, ...,  0.64259497,\n",
       "        -1.03227043,  1.10643166],\n",
       "       [-1.01460667,  1.75486502, -0.57369368, ...,  0.64259497,\n",
       "         0.9687384 , -0.74866447],\n",
       "       [ 0.98560362, -0.5698444 , -0.57369368, ...,  0.64259497,\n",
       "        -1.03227043,  1.48533467],\n",
       "       ...,\n",
       "       [ 0.98560362, -0.5698444 , -0.57369368, ...,  0.64259497,\n",
       "        -1.03227043,  1.41231994],\n",
       "       [-1.01460667, -0.5698444 ,  1.74309049, ...,  0.64259497,\n",
       "         0.9687384 ,  0.84432121],\n",
       "       [-1.01460667,  1.75486502, -0.57369368, ...,  0.64259497,\n",
       "        -1.03227043,  0.32472465]])"
      ]
     },
     "execution_count": 30,
     "metadata": {},
     "output_type": "execute_result"
    }
   ],
   "source": [
    "from sklearn.preprocessing import StandardScaler\n",
    "sc = StandardScaler()\n",
    "X_train = sc.fit_transform(X_train)\n",
    "X_train"
   ]
  },
  {
   "cell_type": "code",
   "execution_count": 31,
   "id": "d539902b",
   "metadata": {},
   "outputs": [
    {
     "data": {
      "text/plain": [
       "array([[-1.01460667,  1.75486502, -0.57369368, ...,  0.64259497,\n",
       "         0.9687384 ,  1.61085707],\n",
       "       [ 0.98560362, -0.5698444 , -0.57369368, ...,  0.64259497,\n",
       "        -1.03227043,  0.49587037],\n",
       "       [-1.01460667, -0.5698444 ,  1.74309049, ...,  0.64259497,\n",
       "         0.9687384 , -0.42478674],\n",
       "       ...,\n",
       "       [-1.01460667, -0.5698444 ,  1.74309049, ...,  0.64259497,\n",
       "        -1.03227043,  0.71888467],\n",
       "       [-1.01460667,  1.75486502, -0.57369368, ...,  0.64259497,\n",
       "         0.9687384 , -1.54507805],\n",
       "       [-1.01460667,  1.75486502, -0.57369368, ...,  0.64259497,\n",
       "        -1.03227043,  1.61255917]])"
      ]
     },
     "execution_count": 31,
     "metadata": {},
     "output_type": "execute_result"
    }
   ],
   "source": [
    "X_test = sc.transform(X_test)\n",
    "X_test"
   ]
  },
  {
   "cell_type": "markdown",
   "id": "56c44f87",
   "metadata": {},
   "source": [
    "# Part 2 - Building the ANN"
   ]
  },
  {
   "cell_type": "code",
   "execution_count": 32,
   "id": "b2932e21",
   "metadata": {},
   "outputs": [],
   "source": [
    "ann = tf.keras.models.Sequential()"
   ]
  },
  {
   "cell_type": "code",
   "execution_count": 33,
   "id": "2d864e14",
   "metadata": {},
   "outputs": [],
   "source": [
    "ann.add(tf.keras.layers.Dense(units=6, activation='relu'))"
   ]
  },
  {
   "cell_type": "code",
   "execution_count": 34,
   "id": "4c630114",
   "metadata": {},
   "outputs": [],
   "source": [
    "ann.add(tf.keras.layers.Dense(units=6, activation='relu'))"
   ]
  },
  {
   "cell_type": "code",
   "execution_count": 35,
   "id": "51e2e630",
   "metadata": {},
   "outputs": [],
   "source": [
    "ann.add(tf.keras.layers.Dense(units=1, activation='sigmoid'))"
   ]
  },
  {
   "cell_type": "markdown",
   "id": "2da0553d",
   "metadata": {},
   "source": [
    "# Part 3 - Training the ANN\n"
   ]
  },
  {
   "cell_type": "code",
   "execution_count": 36,
   "id": "1fdf0765",
   "metadata": {},
   "outputs": [],
   "source": [
    "ann.compile(optimizer = 'adam', loss = 'binary_crossentropy', metrics = ['accuracy'])"
   ]
  },
  {
   "cell_type": "code",
   "execution_count": 37,
   "id": "09b0072a",
   "metadata": {},
   "outputs": [
    {
     "name": "stdout",
     "output_type": "stream",
     "text": [
      "Epoch 1/60\n",
      "250/250 [==============================] - 1s 697us/step - loss: 0.6765 - accuracy: 0.6250\n",
      "Epoch 2/60\n",
      "250/250 [==============================] - 0s 685us/step - loss: 0.5358 - accuracy: 0.7959\n",
      "Epoch 3/60\n",
      "250/250 [==============================] - 0s 697us/step - loss: 0.4898 - accuracy: 0.7960\n",
      "Epoch 4/60\n",
      "250/250 [==============================] - 0s 721us/step - loss: 0.4639 - accuracy: 0.7984\n",
      "Epoch 5/60\n",
      "250/250 [==============================] - 0s 693us/step - loss: 0.4456 - accuracy: 0.8069\n",
      "Epoch 6/60\n",
      "250/250 [==============================] - 0s 717us/step - loss: 0.4345 - accuracy: 0.8090\n",
      "Epoch 7/60\n",
      "250/250 [==============================] - 0s 877us/step - loss: 0.4270 - accuracy: 0.8120\n",
      "Epoch 8/60\n",
      "250/250 [==============================] - 0s 685us/step - loss: 0.4211 - accuracy: 0.8149\n",
      "Epoch 9/60\n",
      "250/250 [==============================] - 0s 681us/step - loss: 0.4162 - accuracy: 0.8134\n",
      "Epoch 10/60\n",
      "250/250 [==============================] - 0s 693us/step - loss: 0.4120 - accuracy: 0.8175\n",
      "Epoch 11/60\n",
      "250/250 [==============================] - 0s 685us/step - loss: 0.4079 - accuracy: 0.8209\n",
      "Epoch 12/60\n",
      "250/250 [==============================] - 0s 705us/step - loss: 0.4028 - accuracy: 0.8225\n",
      "Epoch 13/60\n",
      "250/250 [==============================] - 0s 705us/step - loss: 0.3967 - accuracy: 0.8292\n",
      "Epoch 14/60\n",
      "250/250 [==============================] - 0s 865us/step - loss: 0.3885 - accuracy: 0.8370\n",
      "Epoch 15/60\n",
      "250/250 [==============================] - 0s 693us/step - loss: 0.3800 - accuracy: 0.8386\n",
      "Epoch 16/60\n",
      "250/250 [==============================] - 0s 693us/step - loss: 0.3721 - accuracy: 0.8451\n",
      "Epoch 17/60\n",
      "250/250 [==============================] - 0s 681us/step - loss: 0.3656 - accuracy: 0.8479\n",
      "Epoch 18/60\n",
      "250/250 [==============================] - 0s 701us/step - loss: 0.3607 - accuracy: 0.8494\n",
      "Epoch 19/60\n",
      "250/250 [==============================] - 0s 685us/step - loss: 0.3569 - accuracy: 0.8512\n",
      "Epoch 20/60\n",
      "250/250 [==============================] - 0s 697us/step - loss: 0.3542 - accuracy: 0.8551\n",
      "Epoch 21/60\n",
      "250/250 [==============================] - 0s 685us/step - loss: 0.3524 - accuracy: 0.8555\n",
      "Epoch 22/60\n",
      "250/250 [==============================] - 0s 721us/step - loss: 0.3507 - accuracy: 0.8553\n",
      "Epoch 23/60\n",
      "250/250 [==============================] - 0s 873us/step - loss: 0.3493 - accuracy: 0.8556\n",
      "Epoch 24/60\n",
      "250/250 [==============================] - 0s 697us/step - loss: 0.3484 - accuracy: 0.8570\n",
      "Epoch 25/60\n",
      "250/250 [==============================] - 0s 685us/step - loss: 0.3475 - accuracy: 0.8586\n",
      "Epoch 26/60\n",
      "250/250 [==============================] - 0s 709us/step - loss: 0.3465 - accuracy: 0.8597\n",
      "Epoch 27/60\n",
      "250/250 [==============================] - 0s 701us/step - loss: 0.3453 - accuracy: 0.8597\n",
      "Epoch 28/60\n",
      "250/250 [==============================] - 0s 801us/step - loss: 0.3451 - accuracy: 0.8600\n",
      "Epoch 29/60\n",
      "250/250 [==============================] - 0s 777us/step - loss: 0.3443 - accuracy: 0.8599\n",
      "Epoch 30/60\n",
      "250/250 [==============================] - 0s 677us/step - loss: 0.3433 - accuracy: 0.8615\n",
      "Epoch 31/60\n",
      "250/250 [==============================] - 0s 681us/step - loss: 0.3435 - accuracy: 0.8604\n",
      "Epoch 32/60\n",
      "250/250 [==============================] - 0s 685us/step - loss: 0.3425 - accuracy: 0.8610\n",
      "Epoch 33/60\n",
      "250/250 [==============================] - 0s 689us/step - loss: 0.3424 - accuracy: 0.8605\n",
      "Epoch 34/60\n",
      "250/250 [==============================] - 0s 689us/step - loss: 0.3419 - accuracy: 0.8604\n",
      "Epoch 35/60\n",
      "250/250 [==============================] - 0s 777us/step - loss: 0.3413 - accuracy: 0.8599\n",
      "Epoch 36/60\n",
      "250/250 [==============================] - 0s 729us/step - loss: 0.3413 - accuracy: 0.8619\n",
      "Epoch 37/60\n",
      "250/250 [==============================] - 0s 681us/step - loss: 0.3403 - accuracy: 0.8630\n",
      "Epoch 38/60\n",
      "250/250 [==============================] - 0s 693us/step - loss: 0.3404 - accuracy: 0.8625\n",
      "Epoch 39/60\n",
      "250/250 [==============================] - 0s 689us/step - loss: 0.3401 - accuracy: 0.8609\n",
      "Epoch 40/60\n",
      "250/250 [==============================] - 0s 685us/step - loss: 0.3399 - accuracy: 0.8618\n",
      "Epoch 41/60\n",
      "250/250 [==============================] - 0s 685us/step - loss: 0.3394 - accuracy: 0.8636\n",
      "Epoch 42/60\n",
      "250/250 [==============================] - 0s 677us/step - loss: 0.3393 - accuracy: 0.8618\n",
      "Epoch 43/60\n",
      "250/250 [==============================] - 0s 681us/step - loss: 0.3388 - accuracy: 0.8639\n",
      "Epoch 44/60\n",
      "250/250 [==============================] - 0s 709us/step - loss: 0.3382 - accuracy: 0.8621\n",
      "Epoch 45/60\n",
      "250/250 [==============================] - 0s 705us/step - loss: 0.3382 - accuracy: 0.8624\n",
      "Epoch 46/60\n",
      "250/250 [==============================] - 0s 681us/step - loss: 0.3376 - accuracy: 0.8640\n",
      "Epoch 47/60\n",
      "250/250 [==============================] - 0s 681us/step - loss: 0.3377 - accuracy: 0.8634\n",
      "Epoch 48/60\n",
      "250/250 [==============================] - 0s 697us/step - loss: 0.3371 - accuracy: 0.8635\n",
      "Epoch 49/60\n",
      "250/250 [==============================] - 0s 877us/step - loss: 0.3367 - accuracy: 0.8631\n",
      "Epoch 50/60\n",
      "250/250 [==============================] - 0s 813us/step - loss: 0.3369 - accuracy: 0.8622\n",
      "Epoch 51/60\n",
      "250/250 [==============================] - 0s 677us/step - loss: 0.3361 - accuracy: 0.8637\n",
      "Epoch 52/60\n",
      "250/250 [==============================] - 0s 697us/step - loss: 0.3364 - accuracy: 0.8639\n",
      "Epoch 53/60\n",
      "250/250 [==============================] - 0s 697us/step - loss: 0.3361 - accuracy: 0.8651\n",
      "Epoch 54/60\n",
      "250/250 [==============================] - 0s 677us/step - loss: 0.3359 - accuracy: 0.8651\n",
      "Epoch 55/60\n",
      "250/250 [==============================] - 0s 705us/step - loss: 0.3355 - accuracy: 0.8644\n",
      "Epoch 56/60\n",
      "250/250 [==============================] - 0s 693us/step - loss: 0.3353 - accuracy: 0.8650\n",
      "Epoch 57/60\n",
      "250/250 [==============================] - 0s 885us/step - loss: 0.3352 - accuracy: 0.8648\n",
      "Epoch 58/60\n",
      "250/250 [==============================] - 0s 749us/step - loss: 0.3348 - accuracy: 0.8661\n",
      "Epoch 59/60\n",
      "250/250 [==============================] - 0s 801us/step - loss: 0.3354 - accuracy: 0.8626\n",
      "Epoch 60/60\n",
      "250/250 [==============================] - 0s 729us/step - loss: 0.3351 - accuracy: 0.8646\n"
     ]
    },
    {
     "data": {
      "text/plain": [
       "<keras.callbacks.History at 0x23e28ca8f10>"
      ]
     },
     "execution_count": 37,
     "metadata": {},
     "output_type": "execute_result"
    }
   ],
   "source": [
    "ann.fit(X_train, y_train, batch_size = 32, epochs = 60)"
   ]
  },
  {
   "cell_type": "markdown",
   "id": "c9daffa1",
   "metadata": {},
   "source": [
    "# Part 4 - Making the predictions and evaluating the model"
   ]
  },
  {
   "cell_type": "code",
   "execution_count": 38,
   "id": "95603979",
   "metadata": {},
   "outputs": [
    {
     "name": "stdout",
     "output_type": "stream",
     "text": [
      "[[False]]\n"
     ]
    }
   ],
   "source": [
    "print(ann.predict(sc.transform([[1, 0, 0, 600, 1, 40, 3, 60000, 2, 1, 1, 50000]])) > 0.5)"
   ]
  },
  {
   "cell_type": "code",
   "execution_count": null,
   "id": "08f46bcf",
   "metadata": {},
   "outputs": [],
   "source": []
  }
 ],
 "metadata": {
  "kernelspec": {
   "display_name": "Python 3 (ipykernel)",
   "language": "python",
   "name": "python3"
  },
  "language_info": {
   "codemirror_mode": {
    "name": "ipython",
    "version": 3
   },
   "file_extension": ".py",
   "mimetype": "text/x-python",
   "name": "python",
   "nbconvert_exporter": "python",
   "pygments_lexer": "ipython3",
   "version": "3.9.7"
  }
 },
 "nbformat": 4,
 "nbformat_minor": 5
}
